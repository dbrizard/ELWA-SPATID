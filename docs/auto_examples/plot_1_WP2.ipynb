{
  "cells": [
    {
      "cell_type": "code",
      "execution_count": null,
      "metadata": {
        "collapsed": false
      },
      "outputs": [],
      "source": [
        "%matplotlib inline"
      ]
    },
    {
      "cell_type": "markdown",
      "metadata": {},
      "source": [
        "\n# Test :class:`WP2` class\n\nDefine a :class:`Barhete` bar configuration and use it with :class:`WP2` to compute\nelastic wave propagation in simple test cases.\n\n"
      ]
    },
    {
      "cell_type": "code",
      "execution_count": null,
      "metadata": {
        "collapsed": false
      },
      "outputs": [],
      "source": [
        "import numpy as np\nfrom prop1D import WP2, Barhete"
      ]
    },
    {
      "cell_type": "markdown",
      "metadata": {},
      "source": [
        "Define a few parameters\n\n"
      ]
    },
    {
      "cell_type": "code",
      "execution_count": null,
      "metadata": {
        "collapsed": false
      },
      "outputs": [],
      "source": [
        "E = 201e9  # Young modulus [Pa]\nrho = 7800  # Density [kg/m3]\nd = 0.020  # diameter [m]\nk = 2.4  # diamters ratio [-]"
      ]
    },
    {
      "cell_type": "markdown",
      "metadata": {},
      "source": [
        "Create the bar configurations\n\n"
      ]
    },
    {
      "cell_type": "code",
      "execution_count": null,
      "metadata": {
        "collapsed": false
      },
      "outputs": [],
      "source": [
        "nm = 15\nbc = Barhete([E, E], [rho, rho], [.1, .13], [d, d], nmin=nm)\nbc2 = Barhete([E, E], [rho, rho], [.1, .13], [d, k*d], nmin=nm)\nbc3 = Barhete([E, E], [rho, rho], [.1, .13], [k*d, d], nmin=nm)\nbc4 = Barhete([E, E], [rho, rho], [.1, .3], [d, d], nmin=nm)"
      ]
    },
    {
      "cell_type": "markdown",
      "metadata": {},
      "source": [
        "Define the incident wave vector\n\n"
      ]
    },
    {
      "cell_type": "code",
      "execution_count": null,
      "metadata": {
        "collapsed": false
      },
      "outputs": [],
      "source": [
        "comp = np.zeros(20)  # incident wave\n#comp[0:20] = -1e3  # heavyside, compression (<0)\ncomp[0:7] = -2e3\ncomp[15:] = -1e3"
      ]
    },
    {
      "cell_type": "markdown",
      "metadata": {},
      "source": [
        "## Two identical bars, free-ends\n\n"
      ]
    },
    {
      "cell_type": "code",
      "execution_count": null,
      "metadata": {
        "collapsed": false
      },
      "outputs": [],
      "source": [
        "test2 = WP2(bc, comp, nstep=100, left='free', right='free')\ntest2.plot('2b_free')"
      ]
    },
    {
      "cell_type": "markdown",
      "metadata": {},
      "source": [
        "## Two identical bars, clamped-ends\n\n"
      ]
    },
    {
      "cell_type": "code",
      "execution_count": null,
      "metadata": {
        "collapsed": false
      },
      "outputs": [],
      "source": [
        "test2f = WP2(bc, comp, nstep=100, left='infinite', right='infinite')\ntest2f.plot('2b_anech')"
      ]
    },
    {
      "cell_type": "markdown",
      "metadata": {},
      "source": [
        "## Two identical bars with traction pulse\n\n"
      ]
    },
    {
      "cell_type": "code",
      "execution_count": null,
      "metadata": {
        "collapsed": false
      },
      "outputs": [],
      "source": [
        "test2t = WP2(bc, -comp, nstep=100, left='free', right='free')\ntest2t.plot('2b_trac')"
      ]
    },
    {
      "cell_type": "markdown",
      "metadata": {},
      "source": [
        "## Two bars, cross-section increase\n\n"
      ]
    },
    {
      "cell_type": "code",
      "execution_count": null,
      "metadata": {
        "collapsed": false
      },
      "outputs": [],
      "source": [
        "test2a = WP2(bc2, comp, nstep=100, left='free', right='free')\ntest2a.plot('2b_incre')\n# test2av = WP2(bc2, comp, nstep=100, left='free', right='free', Vinit=10)\n# test2av.plot('2baugmv')"
      ]
    },
    {
      "cell_type": "markdown",
      "metadata": {},
      "source": [
        "## Two bars, cross-section reduction\n\n"
      ]
    },
    {
      "cell_type": "code",
      "execution_count": null,
      "metadata": {
        "collapsed": false
      },
      "outputs": [],
      "source": [
        "test2d = WP2(bc3, comp, nstep=100, left='free', right='free')\ntest2d.plot('2b_reduc')\n# test2dv = WP2(bc3, comp, nstep=100, left='free', right='free', Vinit=10)\n# test2dv.plot('2bdimiv')\ntest2d.plotInterface(figname='interf')"
      ]
    },
    {
      "cell_type": "markdown",
      "metadata": {},
      "source": [
        "## First bar with initial velocity\nPositive velocity: compression\n^^^^^^^^^^^^^^^^^^^^^^^^^^^^^^\n\n\n"
      ]
    },
    {
      "cell_type": "code",
      "execution_count": null,
      "metadata": {
        "collapsed": false
      },
      "outputs": [],
      "source": [
        "test2v = WP2(bc4, comp, nstep=100, left='free', right='free', Vinit=10)\ntest2v.plot('2b_veloc')"
      ]
    },
    {
      "cell_type": "markdown",
      "metadata": {},
      "source": [
        "### Negative velocity\nNothing happens, the left bar travels to the left.\n\n"
      ]
    },
    {
      "cell_type": "code",
      "execution_count": null,
      "metadata": {
        "collapsed": false
      },
      "outputs": [],
      "source": [
        "test2vn = WP2(bc4, comp, nstep=100, left='free', right='free', Vinit=-10)\ntest2vn.plot('2b_negveloc')"
      ]
    }
  ],
  "metadata": {
    "kernelspec": {
      "display_name": "Python 3",
      "language": "python",
      "name": "python3"
    },
    "language_info": {
      "codemirror_mode": {
        "name": "ipython",
        "version": 3
      },
      "file_extension": ".py",
      "mimetype": "text/x-python",
      "name": "python",
      "nbconvert_exporter": "python",
      "pygments_lexer": "ipython3",
      "version": "3.6.8"
    }
  },
  "nbformat": 4,
  "nbformat_minor": 0
}